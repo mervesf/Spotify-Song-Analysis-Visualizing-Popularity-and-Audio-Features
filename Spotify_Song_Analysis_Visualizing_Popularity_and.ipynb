{
  "metadata": {
    "kernelspec": {
      "language": "python",
      "display_name": "Python 3",
      "name": "python3"
    },
    "language_info": {
      "name": "python",
      "version": "3.10.12",
      "mimetype": "text/x-python",
      "codemirror_mode": {
        "name": "ipython",
        "version": 3
      },
      "pygments_lexer": "ipython3",
      "nbconvert_exporter": "python",
      "file_extension": ".py"
    },
    "kaggle": {
      "accelerator": "none",
      "dataSources": [
        {
          "sourceId": 2936818,
          "sourceType": "datasetVersion",
          "datasetId": 1800580
        }
      ],
      "dockerImageVersionId": 30626,
      "isInternetEnabled": false,
      "language": "python",
      "sourceType": "notebook",
      "isGpuEnabled": false
    },
    "colab": {
      "name": "Spotify Song Analysis: Visualizing Popularity and ",
      "provenance": [],
      "toc_visible": true
    }
  },
  "nbformat_minor": 0,
  "nbformat": 4,
  "cells": [
    {
      "source": [
        "# IMPORTANT: RUN THIS CELL IN ORDER TO IMPORT YOUR KAGGLE DATA SOURCES,\n",
        "# THEN FEEL FREE TO DELETE THIS CELL.\n",
        "# NOTE: THIS NOTEBOOK ENVIRONMENT DIFFERS FROM KAGGLE'S PYTHON\n",
        "# ENVIRONMENT SO THERE MAY BE MISSING LIBRARIES USED BY YOUR\n",
        "# NOTEBOOK.\n",
        "import kagglehub\n",
        "vatsalmavani_spotify_dataset_path = kagglehub.dataset_download('vatsalmavani/spotify-dataset')\n",
        "\n",
        "print('Data source import complete.')\n"
      ],
      "metadata": {
        "id": "2v8ITjag_WvQ"
      },
      "cell_type": "code",
      "outputs": [],
      "execution_count": null
    },
    {
      "cell_type": "code",
      "source": [
        "# This Python 3 environment comes with many helpful analytics libraries installed\n",
        "# It is defined by the kaggle/python Docker image: https://github.com/kaggle/docker-python\n",
        "# For example, here's several helpful packages to load\n",
        "\n",
        "import numpy as np # linear algebra\n",
        "import pandas as pd # data processing, CSV file I/O (e.g. pd.read_csv)\n",
        "import seaborn as sns\n",
        "import matplotlib.pyplot as plt\n",
        "from plotly.offline import init_notebook_mode, iplot, plot\n",
        "import plotly as py\n",
        "init_notebook_mode(connected=True)\n",
        "import plotly.graph_objs as go\n",
        "from sklearn.preprocessing import StandardScaler\n",
        "\n",
        "# Input data files are available in the read-only \"../input/\" directory\n",
        "# For example, running this (by clicking run or pressing Shift+Enter) will list all files under the input directory\n",
        "\n",
        "import os\n",
        "for dirname, _, filenames in os.walk('/kaggle/input'):\n",
        "    for filename in filenames:\n",
        "        print(os.path.join(dirname, filename))\n",
        "\n",
        "# You can write up to 20GB to the current directory (/kaggle/working/) that gets preserved as output when you create a version using \"Save & Run All\"\n",
        "# You can also write temporary files to /kaggle/temp/, but they won't be saved outside of the current session"
      ],
      "metadata": {
        "_uuid": "8f2839f25d086af736a60e9eeb907d3b93b6e0e5",
        "_cell_guid": "b1076dfc-b9ad-4769-8c92-a6c4dae69d19",
        "execution": {
          "iopub.status.busy": "2024-10-28T15:34:37.785584Z",
          "iopub.execute_input": "2024-10-28T15:34:37.786011Z",
          "iopub.status.idle": "2024-10-28T15:34:40.324545Z",
          "shell.execute_reply.started": "2024-10-28T15:34:37.785973Z",
          "shell.execute_reply": "2024-10-28T15:34:40.323205Z"
        },
        "trusted": true,
        "id": "tL-ZEyso_WvS"
      },
      "execution_count": null,
      "outputs": []
    },
    {
      "cell_type": "code",
      "source": [
        "\"\"\"In this project, I analyzed Spotify song data to visualize changes in song features over the years and identify popular artists.\n",
        "After cleaning and normalizing the data, I presented features like popularity and valence through various graphs and examined correlations.\"\"\""
      ],
      "metadata": {
        "id": "_sDaOit3_WvS"
      },
      "execution_count": null,
      "outputs": []
    },
    {
      "cell_type": "code",
      "source": [
        "df_year=pd.read_csv('/kaggle/input/spotify-dataset/data/data_by_year.csv')\n",
        "df_genres=pd.read_csv('/kaggle/input/spotify-dataset/data/data_by_genres.csv')\n",
        "df_genres_=pd.read_csv('/kaggle/input/spotify-dataset/data/data_w_genres.csv')\n",
        "df_artist=pd.read_csv('/kaggle/input/spotify-dataset/data/data_by_artist.csv')\n",
        "data=pd.read_csv('/kaggle/input/spotify-dataset/data/data.csv')"
      ],
      "metadata": {
        "execution": {
          "iopub.status.busy": "2024-10-28T15:35:05.629866Z",
          "iopub.execute_input": "2024-10-28T15:35:05.630252Z",
          "iopub.status.idle": "2024-10-28T15:35:07.273671Z",
          "shell.execute_reply.started": "2024-10-28T15:35:05.630222Z",
          "shell.execute_reply": "2024-10-28T15:35:07.272396Z"
        },
        "trusted": true,
        "id": "IqDdBDzd_WvT"
      },
      "execution_count": null,
      "outputs": []
    },
    {
      "cell_type": "code",
      "source": [
        "df_year.head()"
      ],
      "metadata": {
        "execution": {
          "iopub.status.busy": "2024-10-28T15:35:10.422372Z",
          "iopub.execute_input": "2024-10-28T15:35:10.422743Z",
          "iopub.status.idle": "2024-10-28T15:35:10.455375Z",
          "shell.execute_reply.started": "2024-10-28T15:35:10.422715Z",
          "shell.execute_reply": "2024-10-28T15:35:10.453937Z"
        },
        "trusted": true,
        "id": "_IAvO8ys_WvT"
      },
      "execution_count": null,
      "outputs": []
    },
    {
      "cell_type": "code",
      "source": [
        "df_genres.head()"
      ],
      "metadata": {
        "execution": {
          "iopub.status.busy": "2024-10-28T15:35:13.063523Z",
          "iopub.execute_input": "2024-10-28T15:35:13.063937Z",
          "iopub.status.idle": "2024-10-28T15:35:13.084975Z",
          "shell.execute_reply.started": "2024-10-28T15:35:13.063903Z",
          "shell.execute_reply": "2024-10-28T15:35:13.0837Z"
        },
        "trusted": true,
        "id": "KBoneg1H_WvT"
      },
      "execution_count": null,
      "outputs": []
    },
    {
      "cell_type": "code",
      "source": [
        "df_genres_.head()"
      ],
      "metadata": {
        "execution": {
          "iopub.status.busy": "2024-10-28T15:35:15.702349Z",
          "iopub.execute_input": "2024-10-28T15:35:15.702763Z",
          "iopub.status.idle": "2024-10-28T15:35:15.726507Z",
          "shell.execute_reply.started": "2024-10-28T15:35:15.702719Z",
          "shell.execute_reply": "2024-10-28T15:35:15.724679Z"
        },
        "trusted": true,
        "id": "l2ockER__WvT"
      },
      "execution_count": null,
      "outputs": []
    },
    {
      "cell_type": "code",
      "source": [
        "df_artist.head()"
      ],
      "metadata": {
        "execution": {
          "iopub.status.busy": "2024-10-28T15:35:18.5868Z",
          "iopub.execute_input": "2024-10-28T15:35:18.587758Z",
          "iopub.status.idle": "2024-10-28T15:35:18.615317Z",
          "shell.execute_reply.started": "2024-10-28T15:35:18.587711Z",
          "shell.execute_reply": "2024-10-28T15:35:18.614191Z"
        },
        "trusted": true,
        "id": "ivE_zsZZ_WvT"
      },
      "execution_count": null,
      "outputs": []
    },
    {
      "cell_type": "code",
      "source": [
        "data.head()"
      ],
      "metadata": {
        "execution": {
          "iopub.status.busy": "2024-10-28T15:35:21.199211Z",
          "iopub.execute_input": "2024-10-28T15:35:21.199619Z",
          "iopub.status.idle": "2024-10-28T15:35:21.22205Z",
          "shell.execute_reply.started": "2024-10-28T15:35:21.199587Z",
          "shell.execute_reply": "2024-10-28T15:35:21.220866Z"
        },
        "trusted": true,
        "id": "ECxFsPT0_WvU"
      },
      "execution_count": null,
      "outputs": []
    },
    {
      "cell_type": "code",
      "source": [
        "data.drop('id',axis=1,inplace=True)\n",
        "duplicated_rows = data[data.duplicated()]\n",
        "data.drop(duplicated_rows.index,axis=0,inplace=True)\n",
        "data.reset_index(drop=True)"
      ],
      "metadata": {
        "execution": {
          "iopub.status.busy": "2024-10-28T15:35:29.974487Z",
          "iopub.execute_input": "2024-10-28T15:35:29.974891Z",
          "iopub.status.idle": "2024-10-28T15:35:30.258459Z",
          "shell.execute_reply.started": "2024-10-28T15:35:29.97486Z",
          "shell.execute_reply": "2024-10-28T15:35:30.257347Z"
        },
        "trusted": true,
        "id": "KG8uo_O6_WvU"
      },
      "execution_count": null,
      "outputs": []
    },
    {
      "cell_type": "code",
      "source": [
        "#normalization-'duration_ms','loudness','tempo'\n",
        "scaler=StandardScaler()\n",
        "data['loudness']= scaler.fit_transform(data['loudness'].values.reshape(-1,1))\n",
        "data_=np.array(data[['duration_ms','tempo']])\n",
        "data[['duration_ms','tempo']]=(data_-np.min(data_,axis=0))/(np.max(data_,axis=0)-np.min(data_,axis=0))"
      ],
      "metadata": {
        "execution": {
          "iopub.status.busy": "2024-10-28T15:35:59.304771Z",
          "iopub.execute_input": "2024-10-28T15:35:59.30571Z",
          "iopub.status.idle": "2024-10-28T15:35:59.321183Z",
          "shell.execute_reply.started": "2024-10-28T15:35:59.305669Z",
          "shell.execute_reply": "2024-10-28T15:35:59.32016Z"
        },
        "trusted": true,
        "id": "20Uup8BK_WvU"
      },
      "execution_count": null,
      "outputs": []
    },
    {
      "cell_type": "code",
      "source": [
        "#Artist popularity ranking\n",
        "artist_unique=[j for i in data['artists'].value_counts().index for j in i.split(',')]\n",
        "popularity=[np.mean(data.loc[data['artists'].apply(lambda x:i in x.split(',')),'popularity']) for i in artist_unique]\n",
        "popularity"
      ],
      "metadata": {
        "id": "UFVD9CWs_WvU"
      },
      "execution_count": null,
      "outputs": []
    },
    {
      "cell_type": "code",
      "source": [
        "#For each artist, the song that made them the most popular and the year in which this singer was most popular\n",
        "values_=data['artists'].value_counts()\n",
        "most_values=values_[values_.values>=10].index\n",
        "new_data=data[data['artists'].isin(most_values)]\n",
        "most_pop_song=[new_data.loc[(new_data['artists'].apply(lambda x:i in x.split(',')))&(np.max(new_data.loc[new_data['artists'].apply(lambda x:i in x.split(',')),'popularity'])==new_data.loc[new_data['artists'].apply(lambda x:i in x.split(',')),'popularity']),'name'] for i in artist_unique]\n",
        "most_pop_year=[new_data.loc[(new_data['artists'].apply(lambda x:i in x.split(',')))&(np.max(new_data.loc[new_data['artists'].apply(lambda x:i in x.split(',')),'popularity'])==new_data.loc[new_data['artists'].apply(lambda x:i in x.split(',')),'popularity']),'year'] for i in artist_unique]"
      ],
      "metadata": {
        "id": "7fv9_ZHf_WvU"
      },
      "execution_count": null,
      "outputs": []
    },
    {
      "cell_type": "code",
      "source": [
        "#Finding out whether this singer is more successful individually or alone\n",
        "individual=[]\n",
        "group=[]\n",
        "for i in artist_unique:\n",
        "    individual.append(np.mean(data.loc[(data['artists'].apply(lambda x:(i in x.split(','))&(len(x.split(','))==1))),'popularity']))\n",
        "    group.append(np.mean(data.loc[(data['artists'].apply(lambda x:(i in x.split(','))&(len(x.split(','))>1))),'popularity']))"
      ],
      "metadata": {
        "id": "62Wvb5df_WvU"
      },
      "execution_count": null,
      "outputs": []
    },
    {
      "cell_type": "code",
      "source": [
        "#popular artists by year and each artist's most popular song\n",
        "def plot_bar_(data):\n",
        "    year_=sorted(data['year'].value_counts().index)\n",
        "    for j in year_:\n",
        "        data_=data.loc[data['year']==j]\n",
        "        artist=data_['artists'].value_counts().index\n",
        "        popularity=[np.mean(data_.loc[data_['artists']==i,'popularity']) for i in artist]\n",
        "        new_data=pd.DataFrame({'artists':artist,'popularity':popularity})\n",
        "        new_data=new_data.sort_values(by='popularity',ascending=False)\n",
        "        plt.figure(figsize=(6,8))\n",
        "        sns.barplot(x=new_data['artists'][:20],y=new_data['popularity'][:20])\n",
        "        plt.xticks(fontsize=5,rotation=90)\n",
        "        plt.xlabel('artists')\n",
        "        plt.ylabel('popularity')\n",
        "        plt.title('{} yılı en popüler snatçılar'.format(j))\n",
        "plot_bar_(data)"
      ],
      "metadata": {
        "execution": {
          "iopub.status.busy": "2023-12-28T18:04:28.807398Z",
          "iopub.execute_input": "2023-12-28T18:04:28.807771Z",
          "iopub.status.idle": "2023-12-28T18:06:10.203103Z",
          "shell.execute_reply.started": "2023-12-28T18:04:28.807744Z",
          "shell.execute_reply": "2023-12-28T18:06:10.202022Z"
        },
        "trusted": true,
        "id": "trFUQr76_WvV"
      },
      "execution_count": null,
      "outputs": []
    },
    {
      "cell_type": "code",
      "source": [
        "#graph of the most listened to song genres by year:\n",
        "#graph of song characteristics by year:\n",
        "features=['acousticness','danceability','energy','instrumentalness','liveness','loudness']\n",
        "year_=sorted(data['year'].value_counts().index)\n",
        "values_=[]\n",
        "for i in range(len(features)):\n",
        "    values=[]\n",
        "    for j in year_:\n",
        "        values.append(np.mean(data.loc[data['year']==j,features[i]]))\n",
        "    values_.append(values)\n",
        "trace1=go.Scatter(\n",
        "           x=year_,\n",
        "           y=values_[0],\n",
        "           name=features[0]\n",
        ")\n",
        "trace2=go.Scatter(\n",
        "           x=year_,\n",
        "           y=values_[1],\n",
        "           xaxis='x2',\n",
        "           yaxis='y2',\n",
        "           name=features[1]\n",
        ")\n",
        "trace3=go.Scatter(\n",
        "           x=year_,\n",
        "           y=values_[2],\n",
        "           xaxis='x3',\n",
        "           yaxis='y3',\n",
        "           name=features[2]\n",
        ")\n",
        "trace4=go.Scatter(\n",
        "           x=year_,\n",
        "           y=values_[3],\n",
        "           xaxis='x4',\n",
        "           yaxis='y4',\n",
        "           name=features[3]\n",
        ")\n",
        "trace5=go.Scatter(\n",
        "           x=year_,\n",
        "           y=values_[4],\n",
        "           xaxis='x5',\n",
        "           yaxis='y5',\n",
        "           name=features[4]\n",
        ")\n",
        "trace6=go.Scatter(\n",
        "           x=year_,\n",
        "           y=values_[5],\n",
        "           xaxis='x6',\n",
        "           yaxis='y6',\n",
        "           name=features[5]\n",
        ")\n",
        "\n",
        "data_1=[trace1,trace2,trace3,trace4,trace5,trace6]\n",
        "layout=go.Layout(\n",
        "          xaxis=dict(domain=[0,0.45]),xaxis2=dict(domain=[0.55,1]),xaxis3=dict(domain=[0,0.45],anchor='y3'),\n",
        "          xaxis4=dict(domain=[0.55,1],anchor='y4'),xaxis5=dict(domain=[0,0.45],anchor='y5'),xaxis6=dict(domain=[0.55,1],anchor='y6'),\n",
        "          yaxis=dict(domain=[0,0.27]),yaxis2=dict(domain=[0,0.27],anchor='x2'),yaxis3=dict(domain=[0.35,0.65],anchor='x3'),\n",
        "          yaxis4=dict(domain=[0.35,0.65],anchor='x4'),yaxis5=dict(domain=[0.72,1],anchor='x5'),yaxis6=dict(domain=[0.72,1],anchor='x6'))\n",
        "\n",
        "fig=go.Figure(data=data_1,layout=layout)\n",
        "iplot(fig)"
      ],
      "metadata": {
        "execution": {
          "iopub.status.busy": "2023-12-28T20:16:15.918093Z",
          "iopub.execute_input": "2023-12-28T20:16:15.918926Z",
          "iopub.status.idle": "2023-12-28T20:16:18.017418Z",
          "shell.execute_reply.started": "2023-12-28T20:16:15.918881Z",
          "shell.execute_reply": "2023-12-28T20:16:18.016329Z"
        },
        "trusted": true,
        "id": "SY4uWM0E_WvV"
      },
      "execution_count": null,
      "outputs": []
    },
    {
      "cell_type": "code",
      "source": [
        "#Valence levels of the pieces from max to mine with bar plot according to years:\n",
        "\n",
        "year_=sorted(data['year'].value_counts().index)\n",
        "valence_list=[]\n",
        "year_list=[]\n",
        "for i in range(1,len(year_),3):\n",
        "    valence_list.append(np.mean(data.loc[((data['year']==year_[i-1])|(data['year']==year_[i])|(data['year']==year_[i+1])),'valence']))\n",
        "    year_list.append(year_[i])\n",
        "new_data=pd.DataFrame({'years':year_list,'valence':valence_list})\n",
        "new_data_=new_data.sort_values(by='years',ascending=False)\n",
        "plt.figure(figsize=(7,12))\n",
        "sns.barplot(x=new_data_.iloc[:,0],y=new_data_.iloc[:,1])\n",
        "plt.xticks(rotation=45)\n",
        "plt.xlabel('Years')\n",
        "plt.ylabel('Valence')\n",
        "plt.title('The valence value of each years')\n",
        "plt.show()"
      ],
      "metadata": {
        "execution": {
          "iopub.status.busy": "2023-12-26T06:04:16.386705Z",
          "iopub.execute_input": "2023-12-26T06:04:16.387006Z",
          "iopub.status.idle": "2023-12-26T06:04:16.799468Z",
          "shell.execute_reply.started": "2023-12-26T06:04:16.386983Z",
          "shell.execute_reply": "2023-12-26T06:04:16.798609Z"
        },
        "trusted": true,
        "id": "v-KOraC9_WvV"
      },
      "execution_count": null,
      "outputs": []
    },
    {
      "cell_type": "code",
      "source": [
        "data['release_date'].value_counts()"
      ],
      "metadata": {
        "execution": {
          "iopub.status.busy": "2023-12-27T07:08:04.563447Z",
          "iopub.execute_input": "2023-12-27T07:08:04.564072Z",
          "iopub.status.idle": "2023-12-27T07:08:04.594205Z",
          "shell.execute_reply.started": "2023-12-27T07:08:04.564037Z",
          "shell.execute_reply": "2023-12-27T07:08:04.592497Z"
        },
        "trusted": true,
        "id": "p8_fhTRF_WvV"
      },
      "execution_count": null,
      "outputs": []
    },
    {
      "cell_type": "code",
      "source": [
        "data.head()"
      ],
      "metadata": {
        "execution": {
          "iopub.status.busy": "2023-12-27T06:57:53.221964Z",
          "iopub.execute_input": "2023-12-27T06:57:53.222357Z",
          "iopub.status.idle": "2023-12-27T06:57:53.245437Z",
          "shell.execute_reply.started": "2023-12-27T06:57:53.222326Z",
          "shell.execute_reply": "2023-12-27T06:57:53.24402Z"
        },
        "trusted": true,
        "id": "WuGoSVWj_WvV"
      },
      "execution_count": null,
      "outputs": []
    },
    {
      "cell_type": "code",
      "source": [
        "data.columns"
      ],
      "metadata": {
        "execution": {
          "iopub.status.busy": "2023-12-27T08:41:12.488258Z",
          "iopub.execute_input": "2023-12-27T08:41:12.488657Z",
          "iopub.status.idle": "2023-12-27T08:41:12.496674Z",
          "shell.execute_reply.started": "2023-12-27T08:41:12.488626Z",
          "shell.execute_reply": "2023-12-27T08:41:12.495352Z"
        },
        "trusted": true,
        "id": "bWsxCybQ_WvV"
      },
      "execution_count": null,
      "outputs": []
    },
    {
      "cell_type": "code",
      "source": [
        "plt.figure(figsize=(12,15))\n",
        "sns.heatmap(data[['valence', 'year', 'acousticness', 'danceability',\n",
        "       'duration_ms', 'energy', 'explicit', 'instrumentalness', 'key',\n",
        "       'liveness', 'loudness', 'mode', 'popularity',\n",
        "       'speechiness', 'tempo']].corr(),annot=True)\n",
        "plt.show()"
      ],
      "metadata": {
        "execution": {
          "iopub.status.busy": "2023-12-27T08:42:12.039787Z",
          "iopub.execute_input": "2023-12-27T08:42:12.040737Z",
          "iopub.status.idle": "2023-12-27T08:42:12.906282Z",
          "shell.execute_reply.started": "2023-12-27T08:42:12.040681Z",
          "shell.execute_reply": "2023-12-27T08:42:12.905269Z"
        },
        "trusted": true,
        "id": "fetiKekX_WvV"
      },
      "execution_count": null,
      "outputs": []
    }
  ]
}